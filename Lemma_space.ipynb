{
  "nbformat": 4,
  "nbformat_minor": 0,
  "metadata": {
    "colab": {
      "name": "Lemma_space.ipynb",
      "version": "0.3.2",
      "provenance": []
    },
    "kernelspec": {
      "name": "python3",
      "display_name": "Python 3"
    }
  },
  "cells": [
    {
      "cell_type": "code",
      "metadata": {
        "id": "o2fxLti8ecFp",
        "colab_type": "code",
        "colab": {}
      },
      "source": [
        "import spacy"
      ],
      "execution_count": 0,
      "outputs": []
    },
    {
      "cell_type": "code",
      "metadata": {
        "id": "rHrZf1zreexq",
        "colab_type": "code",
        "colab": {}
      },
      "source": [
        "# language en ---\n",
        "nlp=spacy.load('en')"
      ],
      "execution_count": 0,
      "outputs": []
    },
    {
      "cell_type": "code",
      "metadata": {
        "id": "NkLwRfPFesu2",
        "colab_type": "code",
        "colab": {}
      },
      "source": [
        "data=\"hello i am deepak and tony is my friend,tony is gaddar and he is pakistani\""
      ],
      "execution_count": 0,
      "outputs": []
    },
    {
      "cell_type": "code",
      "metadata": {
        "id": "-vJGak5qfTdZ",
        "colab_type": "code",
        "colab": {}
      },
      "source": [
        "new_data=nlp(data)   # automatic tokenize"
      ],
      "execution_count": 0,
      "outputs": []
    },
    {
      "cell_type": "code",
      "metadata": {
        "id": "FgJX2MbnfgSi",
        "colab_type": "code",
        "outputId": "7a5cd05c-3bb1-4654-c203-23a15a2bdd3a",
        "colab": {
          "base_uri": "https://localhost:8080/",
          "height": 306
        }
      },
      "source": [
        "for i  in new_data:\n",
        "    print(i,\"lemmatization of word is --->\",i.lemma_)"
      ],
      "execution_count": 0,
      "outputs": [
        {
          "output_type": "stream",
          "text": [
            "hello lemmatization of word is ---> hello\n",
            "i lemmatization of word is ---> i\n",
            "am lemmatization of word is ---> be\n",
            "deepak lemmatization of word is ---> deepak\n",
            "and lemmatization of word is ---> and\n",
            "tony lemmatization of word is ---> tony\n",
            "is lemmatization of word is ---> be\n",
            "my lemmatization of word is ---> -PRON-\n",
            "friend lemmatization of word is ---> friend\n",
            ", lemmatization of word is ---> ,\n",
            "tony lemmatization of word is ---> tony\n",
            "is lemmatization of word is ---> be\n",
            "gaddar lemmatization of word is ---> gaddar\n",
            "and lemmatization of word is ---> and\n",
            "he lemmatization of word is ---> -PRON-\n",
            "is lemmatization of word is ---> be\n",
            "pakistani lemmatization of word is ---> pakistani\n"
          ],
          "name": "stdout"
        }
      ]
    },
    {
      "cell_type": "code",
      "metadata": {
        "id": "M5v0uqiUf5gy",
        "colab_type": "code",
        "colab": {}
      },
      "source": [
        ""
      ],
      "execution_count": 0,
      "outputs": []
    }
  ]
}