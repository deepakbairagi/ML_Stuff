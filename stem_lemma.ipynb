{
  "nbformat": 4,
  "nbformat_minor": 0,
  "metadata": {
    "colab": {
      "name": "stem_lemma.ipynb",
      "version": "0.3.2",
      "provenance": [],
      "include_colab_link": true
    },
    "kernelspec": {
      "name": "python3",
      "display_name": "Python 3"
    }
  },
  "cells": [
    {
      "cell_type": "markdown",
      "metadata": {
        "id": "view-in-github",
        "colab_type": "text"
      },
      "source": [
        "<a href=\"https://colab.research.google.com/github/deepakbairagi/ML_Stuff/blob/master/stem_lemma.ipynb\" target=\"_parent\"><img src=\"https://colab.research.google.com/assets/colab-badge.svg\" alt=\"Open In Colab\"/></a>"
      ]
    },
    {
      "cell_type": "code",
      "metadata": {
        "id": "SKmzC8tbdsSv",
        "colab_type": "code",
        "colab": {}
      },
      "source": [
        "from nltk import stem\n",
        "from nltk.stem import PorterStemmer        # stemming\n",
        "from nltk.stem import WordNetLemmatizer    # lemma\n",
        "import time"
      ],
      "execution_count": 0,
      "outputs": []
    },
    {
      "cell_type": "code",
      "metadata": {
        "id": "-8pFrWKed1Uo",
        "colab_type": "code",
        "colab": {
          "base_uri": "https://localhost:8080/",
          "height": 454
        },
        "outputId": "ed2d3baa-153c-4771-e487-caf6b8c638a5"
      },
      "source": [
        "dir(stem)"
      ],
      "execution_count": 2,
      "outputs": [
        {
          "output_type": "execute_result",
          "data": {
            "text/plain": [
              "['ISRIStemmer',\n",
              " 'LancasterStemmer',\n",
              " 'PorterStemmer',\n",
              " 'RSLPStemmer',\n",
              " 'RegexpStemmer',\n",
              " 'SnowballStemmer',\n",
              " 'StemmerI',\n",
              " 'WordNetLemmatizer',\n",
              " '__builtins__',\n",
              " '__cached__',\n",
              " '__doc__',\n",
              " '__file__',\n",
              " '__loader__',\n",
              " '__name__',\n",
              " '__package__',\n",
              " '__path__',\n",
              " '__spec__',\n",
              " 'api',\n",
              " 'isri',\n",
              " 'lancaster',\n",
              " 'porter',\n",
              " 'regexp',\n",
              " 'rslp',\n",
              " 'snowball',\n",
              " 'util',\n",
              " 'wordnet']"
            ]
          },
          "metadata": {
            "tags": []
          },
          "execution_count": 2
        }
      ]
    },
    {
      "cell_type": "code",
      "metadata": {
        "id": "E0K2cGuid4Tp",
        "colab_type": "code",
        "colab": {}
      },
      "source": [
        "# stemming \n",
        "port=PorterStemmer()\n"
      ],
      "execution_count": 0,
      "outputs": []
    },
    {
      "cell_type": "code",
      "metadata": {
        "id": "8flMvaD5eX6v",
        "colab_type": "code",
        "colab": {
          "base_uri": "https://localhost:8080/",
          "height": 202
        },
        "outputId": "ee1584d1-d06d-47a3-cd53-bc3eb3ae38f2"
      },
      "source": [
        "# word suppy\n",
        "for i in ['going','goes','gone','go','intelligent','intelligence','intelligently','feet','foot','cars','car']:\n",
        "    print( port.stem(i))\n",
        "    time.sleep(1)"
      ],
      "execution_count": 11,
      "outputs": [
        {
          "output_type": "stream",
          "text": [
            "go\n",
            "goe\n",
            "gone\n",
            "go\n",
            "intellig\n",
            "intellig\n",
            "intellig\n",
            "feet\n",
            "foot\n",
            "car\n",
            "car\n"
          ],
          "name": "stdout"
        }
      ]
    },
    {
      "cell_type": "code",
      "metadata": {
        "id": "zdsRESl7e73V",
        "colab_type": "code",
        "colab": {}
      },
      "source": [
        "\n"
      ],
      "execution_count": 0,
      "outputs": []
    }
  ]
}